{
 "cells": [
  {
   "cell_type": "code",
   "execution_count": 15,
   "metadata": {},
   "outputs": [],
   "source": [
    "import simulador_pipeline.pipeline as pipeline\n",
    "import simulador_pipeline.load_program as load_program\n",
    "import simulador_pipeline.register_file as register_file\n",
    "import simulador_pipeline.load_program "
   ]
  },
  {
   "cell_type": "code",
   "execution_count": 16,
   "metadata": {},
   "outputs": [],
   "source": [
    "instruction_memory, data_memory, label_map  = load_program.load_program('program.txt')\n",
    "registers = register_file.RegisterFile()\n",
    "pipeline_processor = pipeline.Pipeline(registers,\n",
    "                                        instruction_memory,\n",
    "                                        data_memory,\n",
    "                                        label_map)\n",
    "    "
   ]
  },
  {
   "cell_type": "code",
   "execution_count": 17,
   "metadata": {},
   "outputs": [],
   "source": [
    "def print_status(instructions, pipeline_processor):\n",
    "    # Exibe o ciclo de clock atual\n",
    "    print(f\" CICLO DE CLOCK: {pipeline_processor.clock_cycle} \".center(40, '-'))\n",
    "    \n",
    "    # Exibe o conteúdo dos registradores\n",
    "    print(f\" ESTADO DOS REGISTRADORES \".center(40, '='))\n",
    "    for i in range(0, 32, 4):\n",
    "        print(f\"R{i:02}: {pipeline_processor.registers.read(i)}\\tR{i+1:02}: {pipeline_processor.registers.read(i+1)}\\tR{i+2:02}: {pipeline_processor.registers.read(i+2)}\\tR{i+3:02}: {pipeline_processor.registers.read(i+3)}\")\n",
    "    \n",
    "    # Exibe a memória de instruções\n",
    "    print('\\n')\n",
    "    print(f\" MEMÓRIA DE INSTRUÇÕES \".center(40, '='))\n",
    "    for i, instr in enumerate(instructions):\n",
    "        print(f\"Instrução {i:02}: {instr}\")\n",
    "\n",
    "    # Exibe o estado do pipeline\n",
    "    print('\\n')\n",
    "    print(f\" ESTÁGIOS DO PIPELINE \".center(40, '='))\n",
    "    stages = ['Instruction Fetch', 'Decode', 'Execution', 'Memory Access', 'Write Back']\n",
    "    max_opcode_length = 17\n",
    "    max_oper_length = 11 \n",
    "\n",
    "    for stage, instr in zip(stages, pipeline_processor.get_pipeline_stages()):\n",
    "        if stage == 'Instruction Fetch':  # Ajuste para o estágio de Fetch\n",
    "            if instr:\n",
    "                print(f\"{stage:<{max_opcode_length}}: '{instr:<{max_oper_length}}'\")\n",
    "            else:\n",
    "                print(f\"{stage:<{max_opcode_length}}: (Vazio)\")\n",
    "        else:\n",
    "            # Ajuste para outros estágios\n",
    "            if instr:\n",
    "                print(f\"{stage:<{max_opcode_length}}: {instr.opcode:<{max_oper_length}} | \"\n",
    "                      f\"Oper1: {instr.oper1 if instr.oper1 is not None else '':<{max_oper_length}} | \"\n",
    "                      f\"Oper2: {instr.oper2 if instr.oper2 is not None else '':<{max_oper_length}} | \"\n",
    "                      f\"Oper3: {instr.oper3 if instr.oper3 is not None else '':<{max_oper_length}}\")\n",
    "            else:\n",
    "                print(f\"{stage:<{max_opcode_length}}: (Vazio)\")\n",
    "            \n",
    "    print('\\n')\n",
    "    print(f\"\".center(40, '-'))"
   ]
  },
  {
   "cell_type": "code",
   "execution_count": 24,
   "metadata": {},
   "outputs": [
    {
     "data": {
      "text/plain": [
       "{'neg1': 2, 'ten': 3, 'one': 4, 'two': 5, 'vcc': 6}"
      ]
     },
     "execution_count": 24,
     "metadata": {},
     "output_type": "execute_result"
    }
   ],
   "source": [
    "label_map"
   ]
  }
 ],
 "metadata": {
  "kernelspec": {
   "display_name": "Python 3",
   "language": "python",
   "name": "python3"
  },
  "language_info": {
   "codemirror_mode": {
    "name": "ipython",
    "version": 3
   },
   "file_extension": ".py",
   "mimetype": "text/x-python",
   "name": "python",
   "nbconvert_exporter": "python",
   "pygments_lexer": "ipython3",
   "version": "3.12.2"
  }
 },
 "nbformat": 4,
 "nbformat_minor": 2
}
