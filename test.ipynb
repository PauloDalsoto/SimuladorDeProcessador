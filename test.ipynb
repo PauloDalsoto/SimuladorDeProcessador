{
 "cells": [
  {
   "cell_type": "code",
   "execution_count": 1,
   "metadata": {},
   "outputs": [],
   "source": [
    "import simulador_pipeline.pipeline as pipeline\n",
    "import simulador_pipeline.load_program as load_program\n",
    "import simulador_pipeline.register_file as register_file\n",
    "import simulador_pipeline.control_unit as control_unit\n"
   ]
  },
  {
   "cell_type": "code",
   "execution_count": 4,
   "metadata": {},
   "outputs": [
    {
     "data": {
      "text/plain": [
       "['lw R0 R1 neg1',\n",
       " 'lw R0 R2 ten',\n",
       " 'lw R0 R3 one',\n",
       " 'noop',\n",
       " 'noop',\n",
       " 'noop',\n",
       " 'done halt',\n",
       " 'neg1 .fill -1',\n",
       " 'ten .fill 10',\n",
       " 'one .fill 1']"
      ]
     },
     "execution_count": 4,
     "metadata": {},
     "output_type": "execute_result"
    }
   ],
   "source": [
    "def load_instructions(filename):\n",
    "    instructions = []\n",
    "    with open(filename, 'r') as file:\n",
    "        for line in file:\n",
    "            instructions.append(line.strip())\n",
    "    return instructions\n",
    "\n",
    "instructions = load_instructions('program.txt')\n",
    "instructions"
   ]
  },
  {
   "cell_type": "code",
   "execution_count": 16,
   "metadata": {},
   "outputs": [
    {
     "name": "stdout",
     "output_type": "stream",
     "text": [
      "['lw R0 R1 neg1', 'lw R0 R2 ten', 'lw R0 R3 one', 'noop', 'noop', 'noop', 'done halt', 'neg1 .fill -1', 'ten .fill 10', 'one .fill 1', 'two .fill 2', 'vcc .fill 77']\n",
      "[0, -1, 10, 1, 2, 77, 0, 0, 0, 0, 0, 0, 0, 0, 0, 0, 0, 0, 0, 0, 0, 0, 0, 0, 0, 0, 0, 0, 0, 0, 0, 0, 0, 0, 0, 0, 0, 0, 0, 0, 0, 0, 0, 0, 0, 0, 0, 0, 0, 0, 0, 0, 0, 0, 0, 0, 0, 0, 0, 0, 0, 0, 0, 0, 0, 0, 0, 0, 0, 0, 0, 0, 0, 0, 0, 0, 0, 0, 0, 0, 0, 0, 0, 0, 0, 0, 0, 0, 0, 0, 0, 0, 0, 0, 0, 0, 0, 0, 0, 0, 0, 0, 0, 0, 0, 0, 0, 0, 0, 0, 0, 0, 0, 0, 0, 0, 0, 0, 0, 0, 0, 0, 0, 0, 0, 0, 0, 0, 0, 0, 0, 0, 0, 0, 0, 0, 0, 0, 0, 0, 0, 0, 0, 0, 0, 0, 0, 0, 0, 0, 0, 0, 0, 0, 0, 0, 0, 0, 0, 0, 0, 0, 0, 0, 0, 0, 0, 0, 0, 0, 0, 0, 0, 0, 0, 0, 0, 0, 0, 0, 0, 0, 0, 0, 0, 0, 0, 0, 0, 0, 0, 0, 0, 0, 0, 0, 0, 0, 0, 0, 0, 0, 0, 0, 0, 0, 0, 0, 0, 0, 0, 0, 0, 0, 0, 0, 0, 0, 0, 0, 0, 0, 0, 0, 0, 0, 0, 0, 0, 0, 0, 0, 0, 0, 0, 0, 0, 0, 0, 0, 0, 0, 0, 0, 0, 0, 0, 0, 0, 0, 0, 0, 0, 0, 0, 0]\n",
      "{'neg1': 2, 'ten': 3, 'one': 4, 'two': 5, 'vcc': 6}\n"
     ]
    }
   ],
   "source": [
    "def load_instructions(filename):\n",
    "    instructions = []\n",
    "    data_memory = [0] * 256  # Inicializa a memória de dados com 256 posições, todas com valor 0.\n",
    "    data_index = 1  # Índice para armazenar os valores na memória de dados.\n",
    "    label_map = {}  # Dicionário para armazenar os labels e seus respectivos endereços.\n",
    "    \n",
    "    with open(filename, 'r') as file:\n",
    "        for line in file:\n",
    "            stripped_line = line.strip()\n",
    "            if stripped_line:\n",
    "                # Adiciona a instrução à lista de instruções\n",
    "                instructions.append(stripped_line)\n",
    "\n",
    "                # Verifica se a instrução contem'.fill'\n",
    "                if '.fill' in stripped_line:\n",
    "                    # Armazena o  valor na próxima posição da memória de dados\n",
    "                    data_memory[data_index] = int(stripped_line.split()[2])  # Pega o valor após o nome da variável\n",
    "                    data_index += 1\n",
    "                    label_map[stripped_line.split()[0]] = data_index\n",
    "                    \n",
    "\n",
    "    return instructions, data_memory, label_map\n",
    "\n",
    "instructions_memory, data_memory, label_map = load_instructions('program.txt')\n",
    "print(instructions_memory)\n",
    "print(data_memory)\n",
    "print(label_map)"
   ]
  }
 ],
 "metadata": {
  "kernelspec": {
   "display_name": "Python 3",
   "language": "python",
   "name": "python3"
  },
  "language_info": {
   "codemirror_mode": {
    "name": "ipython",
    "version": 3
   },
   "file_extension": ".py",
   "mimetype": "text/x-python",
   "name": "python",
   "nbconvert_exporter": "python",
   "pygments_lexer": "ipython3",
   "version": "3.12.2"
  }
 },
 "nbformat": 4,
 "nbformat_minor": 2
}
